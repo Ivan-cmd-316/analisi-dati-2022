{
 "cells": [
  {
   "cell_type": "markdown",
   "metadata": {},
   "source": [
    "# Processo di Bernoulli\n",
    "\n",
    "Il processo di Bernulli consiste nell'estrazione casuale di un risultato che può avere due valori.\n",
    "\n",
    "Esempio: estrarre una pallina bianca o rossa da una boccia piena di $B$ palline bianche e $R$ palline rosse.\n",
    "\n",
    "Secondo la definizione di probabilità classica, la probabilità di estrarre una pallina rossa è uguale al rapporto tra il numero di casi favorevoli ($R$) ed il numero totale di casi ($R+B$):\n",
    "\n",
    "$p = \\frac{\\displaystyle R}{\\displaystyle R+B}$\n",
    "\n",
    "La probabilità di un evento negativo (pallina bianca) è ovviamente dato da:\n",
    "\n",
    "$q = \\frac{\\displaystyle B}{\\displaystyle R+B} = 1 - p$\n",
    "\n",
    "In sostanza, lo spazio degli eventi $\\Omega$ ha due possibili valori: $B$ e $R$ con probabilità $P(B)=q$ e $P(R)=p$. Risulta $P(\\Omega)=P(B)+P(R)=1$ (condizione normalizzazione).\n",
    "\n",
    "<img style=\"width: 200px\" src=\"img/bernoulli.png\">\n",
    "\n",
    "<span style=\"color: blue\">Da notare che se invertiamo successo ($R$) e insuccesso ($B$) abbiamo ancora una variabile di Bernoulli con probabilità $1-p$.</span>"
   ]
  },
  {
   "cell_type": "code",
   "execution_count": 1,
   "metadata": {},
   "outputs": [],
   "source": [
    "from scipy.stats import bernoulli\n",
    "import matplotlib.pyplot as plt\n",
    "import numpy as np"
   ]
  },
  {
   "cell_type": "markdown",
   "metadata": {},
   "source": [
    "Nella terminologia usata anche in scipy, la probabilità di un certo esito viene definita **probability mass function** PMF"
   ]
  },
  {
   "cell_type": "code",
   "execution_count": 2,
   "metadata": {},
   "outputs": [
    {
     "name": "stdout",
     "output_type": "stream",
     "text": [
      "p(0): 0.70\n",
      "p(1): 0.30\n"
     ]
    }
   ],
   "source": [
    "p = 0.3\n",
    "p0 = bernoulli.pmf(0,p)\n",
    "p1 = bernoulli.pmf(1,p)\n",
    "print(\"p(0): {:.2f}\".format(p0))\n",
    "print(\"p(1): {:.2f}\".format(p1))"
   ]
  },
  {
   "cell_type": "markdown",
   "metadata": {},
   "source": [
    "Può essere conveniente in certe implementazioni generare casualmente 100 eventi di Bernoulli tutti insieme:"
   ]
  },
  {
   "cell_type": "code",
   "execution_count": 4,
   "metadata": {},
   "outputs": [
    {
     "data": {
      "text/plain": [
       "array([0, 0, 0, 0, 0, 0, 0, 1, 0, 0, 0, 0, 1, 0, 0, 0, 0, 0, 1, 0, 0, 1,\n",
       "       0, 0, 1, 1, 0, 0, 0, 0, 1, 1, 0, 0, 0, 1, 0, 0, 1, 1, 1, 1, 0, 1,\n",
       "       0, 0, 0, 0, 0, 1, 0, 0, 0, 0, 0, 0, 1, 0, 1, 0, 1, 0, 0, 1, 0, 0,\n",
       "       0, 1, 0, 0, 0, 0, 1, 1, 0, 0, 0, 0, 1, 0, 1, 0, 0, 1, 1, 0, 0, 1,\n",
       "       1, 0, 0, 1, 1, 0, 1, 0, 0, 1, 0, 1])"
      ]
     },
     "execution_count": 4,
     "metadata": {},
     "output_type": "execute_result"
    }
   ],
   "source": [
    "r = bernoulli.rvs(p, size=100)\n",
    "r"
   ]
  },
  {
   "cell_type": "code",
   "execution_count": 6,
   "metadata": {},
   "outputs": [
    {
     "data": {
      "text/plain": [
       "33"
      ]
     },
     "execution_count": 6,
     "metadata": {},
     "output_type": "execute_result"
    }
   ],
   "source": [
    "len(r[r==1])"
   ]
  },
  {
   "cell_type": "markdown",
   "metadata": {},
   "source": [
    "Potremmo scrivere semplicemente un'implementazione alternativa alla liberia di python di una variabile di Bernoulli casuale:"
   ]
  },
  {
   "cell_type": "code",
   "execution_count": 7,
   "metadata": {},
   "outputs": [],
   "source": [
    "import random"
   ]
  },
  {
   "cell_type": "code",
   "execution_count": 8,
   "metadata": {},
   "outputs": [],
   "source": [
    "def rnd_bernoulli(p):\n",
    "    r = random.random()\n",
    "    if r<p: return 1\n",
    "    else: return 0"
   ]
  },
  {
   "cell_type": "code",
   "execution_count": 13,
   "metadata": {},
   "outputs": [
    {
     "data": {
      "text/plain": [
       "0"
      ]
     },
     "execution_count": 13,
     "metadata": {},
     "output_type": "execute_result"
    }
   ],
   "source": [
    "rnd_bernoulli(0.3)"
   ]
  },
  {
   "cell_type": "code",
   "execution_count": 14,
   "metadata": {},
   "outputs": [
    {
     "data": {
      "text/plain": [
       "0"
      ]
     },
     "execution_count": 14,
     "metadata": {},
     "output_type": "execute_result"
    }
   ],
   "source": [
    "rnd_bernoulli(0.3)"
   ]
  },
  {
   "cell_type": "code",
   "execution_count": 15,
   "metadata": {},
   "outputs": [
    {
     "data": {
      "text/plain": [
       "1"
      ]
     },
     "execution_count": 15,
     "metadata": {},
     "output_type": "execute_result"
    }
   ],
   "source": [
    "rnd_bernoulli(0.3)"
   ]
  },
  {
   "cell_type": "code",
   "execution_count": 16,
   "metadata": {},
   "outputs": [
    {
     "data": {
      "text/plain": [
       "0"
      ]
     },
     "execution_count": 16,
     "metadata": {},
     "output_type": "execute_result"
    }
   ],
   "source": [
    "rnd_bernoulli(0.3)"
   ]
  },
  {
   "cell_type": "markdown",
   "metadata": {},
   "source": [
    "Rappresentiamo graficamente la distribuzione di Bernoulli con un grafico a barre."
   ]
  },
  {
   "cell_type": "code",
   "execution_count": 19,
   "metadata": {},
   "outputs": [],
   "source": [
    "p = 0.3\n",
    "x = [0,1]\n",
    "y = [bernoulli.pmf(n, p) for n in x]"
   ]
  },
  {
   "cell_type": "code",
   "execution_count": 23,
   "metadata": {},
   "outputs": [
    {
     "data": {
      "image/png": "[encoded data removed]",
      "text/plain": [
       "<Figure size 900x450 with 1 Axes>"
      ]
     },
     "metadata": {
      "needs_background": "light"
     },
     "output_type": "display_data"
    }
   ],
   "source": [
    "plt.figure(figsize=(6,3), dpi=150)\n",
    "plt.bar(x,y)\n",
    "plt.xticks(x)\n",
    "plt.title('Bernoulli distribution')\n",
    "plt.xlabel('n')\n",
    "plt.ylabel('P(n)')\n",
    "plt.show()"
   ]
  },
  {
   "cell_type": "markdown",
   "metadata": {},
   "source": [
    "## Esempi di applicazione concreta del processo di Bernoulli:\n",
    "\n",
    "* La distribuzione di Bernoulli è il modello per la risposta di **un rivelatore che ha un'efficienza $\\varepsilon=p$** non necessariamente ideale (ossia è possibile che si abbia $\\varepsilon<1$). Il risultato a due valori, 0 o 1, corrisponde a un segnale mancato o rilvelato al passaggio di una particella attraverso il rivelatore.    \n",
    "* Si può pensare che il risultato di un calcio di rigore tirato dai un certo giocatore segua la distribuzione di Bernoulli. In realtà, questo è vero solo nella schematizzazione in cui la probabilità di segnare $p$ sia la stessa durante, ad esempio, tutto il campionato. La probabilità, in realtà, dipenderà dalle condizioni fisiche del giocatore, dal portiere che si trova di fronte, dall'effetto psicologico di giocare in casa o fuori casa, ecc. Il principio di simmetria della probabilità classica in questo caso è difficilmente applicabile, ma la schematizzazione può essere realizzata, in modo più o meno semplificato, ad esempio, nell'implementazione in un videogame.\n",
    "* Stesse considerazioni si possono applicare al risultato di un esame da parte di uno studente che, con probabilità $p$, lo supera o può essere bocciato."
   ]
  },
  {
   "cell_type": "markdown",
   "metadata": {},
   "source": [
    "## Due eventi indipendenti\n",
    "\n",
    "Se abbiamo due eventi $A$ e $B$ *indipendenti* che hanno come risultato una variabile di Bernoulli, la probabilità dell'esito congiunto è uguale al prodotto delle probabilità:\n",
    "\n",
    "$P(A\\,\\,e\\,\\,B) = P(A)\\,P(B)$\n",
    "\n",
    "Questo si può applicare a diversi esempi:\n",
    "* La probabilità che due rivelatori di efficienza $\\varepsilon_1$ e $\\varepsilon_2$ diano *entrambi* un segnale al passaggio di una particella che li attraversi entrambi è $\\varepsilon_1\\cdot\\varepsilon_2$\n",
    "* La probabilità che due rivelatori di efficienza $\\varepsilon_1$ e $\\varepsilon_2$ diano *nessuno dei due* un segnale al passaggio di una particella che li attraversi entrambi è $(1-\\varepsilon_1)\\cdot(1-\\varepsilon_2)$\n",
    "* Come conseguenza di quanto detto sopra, la probabilità che *uno solo* dei due rivelatori dia un segnale è $1-(1-\\varepsilon_1)\\cdot(1-\\varepsilon_2)-\\varepsilon_1\\cdot\\varepsilon_2 = \\varepsilon_1+\\varepsilon_2-\\varepsilon_1\\cdot\\varepsilon_2 = \\varepsilon_1\\cdot(1-\\varepsilon_2) + \\varepsilon_2\\cdot(1-\\varepsilon_1)$\n",
    "* La probabilità che *almeno uno* dei rivealtori dia un segnale vale: $1-(1-\\varepsilon_1)\\cdot(1-\\varepsilon_2)$"
   ]
  },
  {
   "cell_type": "code",
   "execution_count": 25,
   "metadata": {},
   "outputs": [
    {
     "name": "stdout",
     "output_type": "stream",
     "text": [
      "prob 1, 2:\n",
      " 0.8 0.9\n",
      "prob 1x2:\n",
      " [[0.72 0.08]\n",
      " [0.18 0.02]]\n"
     ]
    },
    {
     "data": {
      "image/png": "[encoded data removed]",
      "text/plain": [
       "<Figure size 600x600 with 1 Axes>"
      ]
     },
     "metadata": {
      "needs_background": "light"
     },
     "output_type": "display_data"
    }
   ],
   "source": [
    "from matplotlib.collections import LineCollection\n",
    "from matplotlib import patches\n",
    "import math\n",
    "e1, e2 = 0.8, 0.9\n",
    "px = np.array([e1, 1-e1])\n",
    "py = np.array([e2, 1-e2])\n",
    "pxy = np.tensordot(px, py, axes = 0)\n",
    "print(\"prob 1, 2:\\n\", e1, e2)\n",
    "print(\"prob 1x2:\\n\", pxy)\n",
    "fig, ax = plt.subplots(figsize=(6, 6),dpi=100)\n",
    "x, y = np.meshgrid(np.array([0, e1, 1]), np.array([0, e2, 1]))\n",
    "segs1 = np.stack((x,y), axis=2)\n",
    "segs2 = segs1.transpose(1,0,2)\n",
    "ax.add_collection(LineCollection(segs1, colors='w'))\n",
    "ax.add_collection(LineCollection(segs2, colors='w'))\n",
    "xt = [px[0]/2, px[0]+px[1]/2]\n",
    "yt = [py[0]/2, py[0]+py[1]/2]\n",
    "plt.xticks(xt)\n",
    "plt.yticks(yt)\n",
    "ax.set_xlabel('x')\n",
    "ax.set_ylabel('y')\n",
    "plt.title('Two Bernoulli variables')\n",
    "ax.set_xticklabels([r'$\\varepsilon_1$', r'$1-\\varepsilon_1$'])\n",
    "ax.set_yticklabels([r'$\\varepsilon_2$', r'$1-\\varepsilon_2$'])\n",
    "def col(p):\n",
    "    return '#{:02X}00{:02X}'.format(math.floor(p*255),math.floor((1-p)*255))\n",
    "ax.add_patch(patches.Rectangle((0, 0), px[0], py[0], fill=True, color=col(pxy[0,0])))\n",
    "ax.add_patch(patches.Rectangle((px[0], 0), px[1], py[0], fill=True, color=col(pxy[1,0])))\n",
    "ax.add_patch(patches.Rectangle((0, py[0]), px[0], py[1], fill=True, color=col(pxy[0,1])))\n",
    "ax.add_patch(patches.Rectangle((px[0], py[0]), 1-e1, 1-e2, fill=True, color=col(pxy[1,1])))\n",
    "for i in range(2):\n",
    "    for j in range(2):\n",
    "        text = ax.text(xt[i], yt[j], '{:.02f}'.format(pxy[i, j]), ha=\"center\", va=\"center\", color=\"white\")\n",
    "plt.show()"
   ]
  },
  {
   "cell_type": "markdown",
   "metadata": {},
   "source": [
    "# Processo Binomiale\n",
    "\n",
    "Una variabile casuale binomiale è data dalla somma di $n$ variabili di Bernoulli *indipendenti*, ciascuna con la stessa probabilità $p$.\n",
    "\n",
    "Definiremo meglio cosa intendiamo per variabili indipendenti. Per ora, possiamo considerare indipendenti due estrazioni successive dove, per ciascuna delle due, tutte le palline vengono sistemate e mescolate casualmente in una boccia da cui ne viene estratta una a caso.\n",
    "\n",
    "Quindi: dopo $N$ estrazioni contiamo il numero $n$ di palline rosse estratte.\n",
    "\n",
    "La sequenza di estrazione segue uno dei possibli rami di un albero, come indicato nella figura che segue.\n",
    "\n",
    "<img style=\"width: 600px\" src=\"img/binomial.png\">\n",
    "\n",
    "Il numero di casi possibile per ciascuno dei possibili risultati diventa quindi pari al coefficiente della potenza di un binomio:\n",
    "\n",
    "$\\left(\\begin{array}{c} N \\\\ n \\end{array}\\right) = \\frac{\\displaystyle N!}{\\displaystyle n!(N-n)!}$\n",
    "\n",
    "La dimostrazione si può fare in modo più rigoroso per ricorrenza.\n",
    "\n",
    "Considerando che ad ogni biforcazione la probabilità di seguire un ramo o l'altro può essere $p$ oppure $q=1-p$, a seconda se l'esito sia positivo (pallina rossa) oppure negativo (pallina bianca), la probabilità di avere un numero $n$ di esiti positivi (ossia $n$ palline rosse estratte) è pari a:\n",
    "\n",
    "$P(n;N, p) = \\left(\\begin{array}{c} n \\\\ N \\end{array}\\right) p^n(1-p)^{N-n} = \\frac{\\displaystyle N!}{\\displaystyle n!(N-n)!}p^n(1-p)^{N-n}$\n",
    "\n",
    "<span style=\"color:blue;\">Corollario: la distribuzione di $N-n$ è una binomiale con parametri $N$ e $1-p$.</span>\n",
    "\n",
    "<span style=\"color:green;\">Gli statistici professionisti indicano le variabili casuali con la lettera maiuscola, mentre possibili valori particolari della variabile casuale sono indicati con la minuscola. Questa notazione per qualche motivo appare particolarmente antiestetica ai fisici, per cui non la userò.</span>"
   ]
  },
  {
   "cell_type": "code",
   "execution_count": 27,
   "metadata": {},
   "outputs": [],
   "source": [
    "from scipy.stats import binom"
   ]
  },
  {
   "cell_type": "code",
   "execution_count": 33,
   "metadata": {},
   "outputs": [
    {
     "data": {
      "image/png": "[encoded data removed]",
      "text/plain": [
       "<Figure size 900x450 with 1 Axes>"
      ]
     },
     "metadata": {
      "needs_background": "light"
     },
     "output_type": "display_data"
    }
   ],
   "source": [
    "plt.figure(figsize=(6,3), dpi=150)\n",
    "p = 0.3\n",
    "N = 10\n",
    "x = list(range(N+1))\n",
    "y = [binom.pmf(n, N, p) for n in x]\n",
    "plt.bar(x,y)\n",
    "plt.xticks(x)\n",
    "plt.title('Binomial distribution')\n",
    "plt.xlabel('n')\n",
    "plt.ylabel('P(n)')\n",
    "#plt.yscale('log')\n",
    "plt.show()"
   ]
  },
  {
   "cell_type": "markdown",
   "metadata": {},
   "source": [
    "# Esempi di applicazione concreta del processo binomiale:\n",
    "* Su $N=20\\,000$ vaccinati, $n$ sono immunizzati dalla malattia (o dall'infezione). La probabilità di immunizzarsi è l'**efficacia di un vaccino**.\n",
    "* La distribuzione binomiale è il modello per il **numero di conteggi di un rivelatore che ha un'efficienza $\\varepsilon=p$** non necessariamente ideale (ossia può essere $\\varepsilon<1$). Il numero di conteggi $n$ rispetto al numero totale di particelle che attraversano il rivelatore $N$ segue la distribuzione binomiale.\n",
    "* Il numero di rigori segnati da un calciatore durante una stagione si potrebbe modellizzare con la distribuzione binomiale, assumendo per semplicità che la probabilità $p$ di segnare sia uguale durante tutto il campionato, e quindi che ciascun rigore sia il risultato casuale di un processo di Bernoulli con probabilità $p$.\n"
   ]
  },
  {
   "cell_type": "markdown",
   "metadata": {},
   "source": [
    "# Distribuzione di Poisson\n",
    "La distribuzione di Poisson si ottiene come limite della distrubuzione binomiale per $N\\rightarrow\\infty$.\n",
    "Se $N\\rightarrow\\infty$, anche il numero di estrazioni di risultati positivi $n$ tenderà ad assumere valori divergenti, a meno che $p$ non tende a zero mente $N$ tende all'infinito. Per questo, assumiamo e che $\\nu=pN$ resti costante. In questo caso, la distribuzione binomiale: \n",
    "\n",
    "$P(n; N, p) = \\frac{\\displaystyle N!}{\\displaystyle n!(N-n)!}p^n(1-p)^{N-n}$\n",
    "\n",
    "Diventa, sostituendo $p$ con $\\nu/N$:\n",
    "\n",
    "$P(n;\\nu) = \\frac{\\displaystyle N!}{\\displaystyle n!(N-n)!}{\\left(\\frac{\\displaystyle\\nu}{\\displaystyle N}\\right)}^n\\left(1-\\frac{\\displaystyle\\nu}{\\displaystyle N}\\right)^{N-n}$\n",
    "\n",
    "Con qualche manipolazione:\n",
    "\n",
    "$P(n;\\nu) = \\frac{\\displaystyle \\nu^N}{\\displaystyle n!}\n",
    "\\,\\frac{\\displaystyle N!}{\\displaystyle (N-n)! N^n}\n",
    "\\left(1-\\frac{\\displaystyle\\nu}{\\displaystyle N}\\right)^N\n",
    "\\left(1-\\frac{\\displaystyle\\nu}{\\displaystyle N}\\right)^{-n}$\n",
    "\n",
    "Semplificando un paio di termini con i fattoriali al numeratore e denominatore:\n",
    "\n",
    "$P(n;\\nu) = \\frac{\\displaystyle \\nu^n}{\\displaystyle n!}\n",
    "\\,\\frac{\\displaystyle N (N-1)\\cdots (N-n-1)}{\\displaystyle N^n}\n",
    "\\left(1-\\frac{\\displaystyle\\nu}{\\displaystyle N}\\right)^N\n",
    "\\left(1-\\frac{\\displaystyle\\nu}{\\displaystyle N}\\right)^{-n}$\n",
    "\n",
    "Per $N\\rightarrow\\infty$, il termine $\\nu^n/n!$ resta costante, mentre gli altri tre tendono rispettivamente a:\n",
    "* 1 (al numeratore ci sono $n$ termini, tutti che tendono a $N$\n",
    "* $e^{-\\nu}$ (si tratta di un limite notevole)\n",
    "* 1 (il termine $\\nu/N$ in parentesi tende a zero)\n",
    "\n",
    "La distribuzione diventa quindi:\n",
    "\n",
    "$P(n;\\nu) = \\frac{\\displaystyle \\nu^n e^{-\\nu}}{\\displaystyle n!}$\n",
    "\n",
    "<span style=\"color: blue\">La distribuzione di Poisson è il modello per il numero di particelle che attraversano un rivelatore, in fatti il numero di conteggi $n$ acquisito in un certo tempo $t$ in cui il numero atteso di conteggio è $\\nu$, segue la distribuzione di Poisson. Questo si può applicare ad un rivelatore che registra raggi cosmici oppure particelle prodotte ad un acceleratore. Il numero atteso di conteggi $\\nu$ si può confrontare con le previsioni di un modello teorico, se disponibile.\n",
    "</span>"
   ]
  },
  {
   "cell_type": "code",
   "execution_count": 34,
   "metadata": {},
   "outputs": [],
   "source": [
    "from scipy.stats import poisson"
   ]
  },
  {
   "cell_type": "code",
   "execution_count": 40,
   "metadata": {},
   "outputs": [
    {
     "data": {
      "image/png": "[encoded data removed]",
      "text/plain": [
       "<Figure size 900x450 with 1 Axes>"
      ]
     },
     "metadata": {
      "needs_background": "light"
     },
     "output_type": "display_data"
    }
   ],
   "source": [
    "plt.figure(figsize=(6,3), dpi=150)\n",
    "nu = 4\n",
    "n_max = 15\n",
    "x = list(range(n_max+1))\n",
    "y = [poisson.pmf(n, nu) for n in x]\n",
    "plt.bar(x,y)\n",
    "plt.xticks(x)\n",
    "plt.title('Poisson distribution')\n",
    "plt.xlabel('n')\n",
    "plt.ylabel('P(n)')\n",
    "#plt.yscale('log')\n",
    "plt.show()"
   ]
  },
  {
   "cell_type": "markdown",
   "metadata": {},
   "source": [
    "Proviamo un confronto numerico tra una binomiale ed una poissoniana dove $\\nu=p N$, con $N$ grande e $p$ piccolo."
   ]
  },
  {
   "cell_type": "code",
   "execution_count": 47,
   "metadata": {},
   "outputs": [
    {
     "data": {
      "image/png": "[encoded data removed]",
      "text/plain": [
       "<Figure size 900x450 with 1 Axes>"
      ]
     },
     "metadata": {
      "needs_background": "light"
     },
     "output_type": "display_data"
    }
   ],
   "source": [
    "plt.figure(figsize=(6,3), dpi=150)\n",
    "p = 0.05\n",
    "N = 50\n",
    "nu = p*N\n",
    "x = np.arange(N+1)\n",
    "y1 = [poisson.pmf(n, nu) for n in x]\n",
    "y2 = [binom.pmf(n, N, p) for n in x]\n",
    "width = 0.4\n",
    "plt.bar(x,y1,width,label='Poisson')\n",
    "plt.bar(x+width,y2,width,label='Binomial')\n",
    "#plt.yscale('log')\n",
    "plt.title('Poisson and Binomial distributions')\n",
    "plt.xlabel('n')\n",
    "plt.ylabel('P(n)')\n",
    "plt.legend()\n",
    "#plt.yscale('log')\n",
    "plt.show()"
   ]
  },
  {
   "cell_type": "markdown",
   "metadata": {},
   "source": [
    "Vedremo che esiste un modo per mettere in relazione la distribuzione di Poisson partendo da una distribuzione uniforme.\n",
    "Ma dobbiamo prima introdurre in modo più sistematico le distribuzioni di probabilità nel caso continuo."
   ]
  },
  {
   "cell_type": "markdown",
   "metadata": {},
   "source": [
    "# Esempi di applicazione concreta del processo di Poisson:\n",
    "* Numero di morti in un giorno in Italia. Il processo è chiaramente binomiale ($N\\simeq 60.000.000$), ma la probabilità $p$ è talmente piccola che $N$ si può considerare infinito. Il numero di morti al giorno $\\nu$ vale circa $1.500$.\n",
    "* Numero di gocce di pioggia che cade in un secchio in un minuto.\n",
    "* Numero di raggi cosmici che attraversano un rivelatore in un minuto.\n",
    "\n",
    "Sono tutti casi in cui il tasso degli eventi di interesse è noto e non c'è un limite superiore, almeno in buona approssimazione, al numero di casi che si possono osservare."
   ]
  },
  {
   "cell_type": "markdown",
   "metadata": {},
   "source": [
    "## Distribuzione cumulativa\n",
    "\n",
    "La distribuzione cumulativa di una distribuzione $P(x)$ come la probabilità che $x\\le y$:\n",
    "\n",
    "$\\displaystyle F(y) = P(x\\le y) = \\sum_{x\\le y} P(x)$\n",
    "\n",
    "Con ```scipy``` ogni distribuzione ha una funzione ```cdf``` che calcola la cumulativa."
   ]
  },
  {
   "cell_type": "code",
   "execution_count": 48,
   "metadata": {},
   "outputs": [
    {
     "name": "stdout",
     "output_type": "stream",
     "text": [
      "Prob(n<=3), nu=5: 0.2650259152973616\n"
     ]
    }
   ],
   "source": [
    "p_3_5 = poisson.cdf(3, 5)\n",
    "print(\"Prob(n<=3), nu=5:\", p_3_5)"
   ]
  },
  {
   "cell_type": "markdown",
   "metadata": {},
   "source": [
    "Chiaramente:\n",
    "\n",
    "$P(x > y) = 1-P(x\\le y) = F(y)$"
   ]
  },
  {
   "cell_type": "code",
   "execution_count": 49,
   "metadata": {},
   "outputs": [
    {
     "name": "stdout",
     "output_type": "stream",
     "text": [
      "Prob(n>3), nu=5: 0.7349740847026385\n"
     ]
    }
   ],
   "source": [
    "print(\"Prob(n>3), nu=5:\", 1-p_3_5)"
   ]
  },
  {
   "cell_type": "markdown",
   "metadata": {},
   "source": [
    "# Spunti per esercizi\n",
    "\n",
    "* Il 17/3/2021 il Paul-Erlich-Institut ha circolato un [comunicato](https://www.pei.de/SharedDocs/Downloads/EN/newsroom-en/hp-news/faq-temporary-suspension-astrazeneca.pdf) che ha portato alla sospenzione del vaccino AstraZeneca. Erano stati osservati 7 casi (su 1.7 milioni) di una rara trombosi quandi ne era atteso, in media 1. Calcolare qual è la probabilità di avere 7 o più casi quando ne sono attesi 1. Calcolare la stessa probabilità quando se ne attendono invece 2 o 3."
   ]
  },
  {
   "cell_type": "code",
   "execution_count": 53,
   "metadata": {},
   "outputs": [
    {
     "name": "stdout",
     "output_type": "stream",
     "text": [
      "Prob(n>=7), nu=1: 8.324114928803805e-05\n"
     ]
    }
   ],
   "source": [
    "print(\"Prob(n>=7), nu=1:\", 1-poisson.cdf(6, 1))"
   ]
  },
  {
   "cell_type": "markdown",
   "metadata": {},
   "source": [
    "* In Italia in questo mese ci sono circa [70.000 infetti accertati al giorno di COVID-19](https://github.com/pcm-dpc/COVID-19) su [59.6 milioni di abitanti (al 1° gennaio 2021)](http://dati.istat.it/Index.aspx?DataSetCode=DCIS_POPRES1). Calcolare la probabilità che, a questi ritmi, una persona si infetti di COVID-19 entro un anno e la probabilità che una famiglia di 4 persone venga messa in quarantena perché almeno una persona risulti infetta."
   ]
  },
  {
   "cell_type": "code",
   "execution_count": 65,
   "metadata": {},
   "outputs": [
    {
     "name": "stdout",
     "output_type": "stream",
     "text": [
      "1 persona si ammala entro un anno: 34.880%\n",
      "almeno almeno un infetto su 4: p = 82.018%\n",
      "infette 0 persone: p = 17.982%\n",
      "infette 1 persone: p = 38.528%\n",
      "infette 2 persone: p = 30.955%\n",
      "infette 3 persone: p = 11.054%\n",
      "infette 4 persone: p = 1.480%\n",
      "almeno due infetti: p = 61.472%\n"
     ]
    }
   ],
   "source": [
    "p_1g = 70000/59600000\n",
    "p_1y = 1-(1-p_1g)**365\n",
    "print(\"1 persona si ammala entro un anno: {:.3%}\".format(p_1y))\n",
    "# Nota: la formula seguente è solo un'approssimazione valida se p_1g << 1\n",
    "#p_1g*365\n",
    "n_family = 4\n",
    "p4_1y = 1-(1-p_1y)**n_family\n",
    "print(\"almeno almeno un infetto su {:d}: p = {:.3%}\".format(n_family, p4_1y))\n",
    "for k in range(5):\n",
    "    print(\"infette {:d} persone: p = {:.3%}\".format(k, binom.pmf(k,4,p_1y)))\n",
    "print(\"almeno due infetti: p = {:.3%}\".format(p4_1y_2))\n",
    "# Attenzione! Abbiamo assunto che le persone nella famiglia si infettino INDIPENDENTEMENTE, \n",
    "# cosa non vera, visto che c'è il rischio di infettarsi in famiglia!"
   ]
  },
  {
   "cell_type": "markdown",
   "metadata": {},
   "source": [
    "* Durante la pandemia molti esami sono sostituiti da test online a risposta multipla. Se un test prevede 5 domande, ciascuna con 3 risposte, calcolare la probabilità di indovinare almeno 4 risposte a caso. Come cambia la probabilità se invece ci sono 5 risposte?"
   ]
  },
  {
   "cell_type": "code",
   "execution_count": 62,
   "metadata": {},
   "outputs": [
    {
     "name": "stdout",
     "output_type": "stream",
     "text": [
      "p = 0.04526748971193406\n",
      "p = 0.006719999999999948\n"
     ]
    }
   ],
   "source": [
    "def p_pass(n_test = 5, n_ans = 3, n_min = 4):\n",
    "    p_1 = 1/n_ans\n",
    "    return 1-binom.cdf(n_min-1,n_test,p_1)\n",
    "print(\"p =\",p_pass())\n",
    "print(\"p =\",p_pass(n_ans=5))"
   ]
  },
  {
   "cell_type": "markdown",
   "metadata": {},
   "source": [
    "* In Italia nel 2019 per incidenti d'auto sono morte 3.173 persone e 241.384 sono risultate ferite (fonte: [ISTAT](https://www.istat.it/it/archivio/245757)) su un totale di [59.816.673 abitanti](http://demo.istat.it/popres/index.php?anno=2019). Qual è la probabilità che a Pozzuoli (79.752 abitanti) ci siano meno di 2 morti in un anno (assumendo una probabilità uniforme sul territorio nazionale)?"
   ]
  },
  {
   "cell_type": "code",
   "execution_count": 64,
   "metadata": {},
   "outputs": [
    {
     "name": "stdout",
     "output_type": "stream",
     "text": [
      "p =  5.304541093417215e-05\n",
      "nu, Pozzuoli 4.2304776128220976\n",
      "p(n<2) =  0.07607960770160224\n"
     ]
    }
   ],
   "source": [
    "p_1 = 3173/59816673\n",
    "print(\"p = \",p_1)\n",
    "nu_pozzuoli = p_1*79752\n",
    "print(\"nu, Pozzuoli\",nu_pozzuoli)\n",
    "print(\"p(n<2) = \",poisson.cdf(1, nu_pozzuoli))"
   ]
  },
  {
   "cell_type": "markdown",
   "metadata": {},
   "source": [
    "* Un esperimento è fatto da 5 rivelatori sovrapposti tutti con efficienza $\\varepsilon=0.9$. $N=10.000$ raggi cosmici attraversano tutti i rivelatori. Trovare il numero medio di raggi cosmici che danno luogo ad un segnale su almeno 3 rivelatori su 5."
   ]
  },
  {
   "cell_type": "code",
   "execution_count": 67,
   "metadata": {},
   "outputs": [
    {
     "data": {
      "image/png": "[encoded data removed]",
      "text/plain": [
       "<Figure size 900x600 with 1 Axes>"
      ]
     },
     "metadata": {
      "needs_background": "light"
     },
     "output_type": "display_data"
    }
   ],
   "source": [
    "plt.figure(figsize=(6,4), dpi=150)\n",
    "p = 0.9\n",
    "N = 5\n",
    "x = list(range(N+1))\n",
    "y = [binom.pmf(n, N, p) for n in x]\n",
    "plt.bar(x,y)\n",
    "plt.xticks(x)\n",
    "plt.title('Binomial distribution')\n",
    "plt.xlabel('n')\n",
    "plt.ylabel('P(n)')\n",
    "plt.show()"
   ]
  },
  {
   "cell_type": "code",
   "execution_count": 78,
   "metadata": {},
   "outputs": [
    {
     "name": "stdout",
     "output_type": "stream",
     "text": [
      "P(n>=3) = 0.99144\n"
     ]
    }
   ],
   "source": [
    "p_ge3 = 1-binom.cdf(2,5,0.9)\n",
    "print(\"P(n>=3) =\",p_ge3)"
   ]
  },
  {
   "cell_type": "code",
   "execution_count": 80,
   "metadata": {},
   "outputs": [
    {
     "name": "stdout",
     "output_type": "stream",
     "text": [
      "n expected: 9914.4\n"
     ]
    }
   ],
   "source": [
    "n_exp=10000*p_ge3\n",
    "print(\"n expected:\", n_exp)"
   ]
  },
  {
   "cell_type": "code",
   "execution_count": 81,
   "metadata": {},
   "outputs": [
    {
     "name": "stdout",
     "output_type": "stream",
     "text": [
      "n missed: 85.60000000000036\n"
     ]
    }
   ],
   "source": [
    "print(\"n missed:\", 10000-n_exp)"
   ]
  }
 ],
 "metadata": {
  "kernelspec": {
   "display_name": "Python 3 (ipykernel)",
   "language": "python",
   "name": "python3"
  },
  "language_info": {
   "codemirror_mode": {
    "name": "ipython",
    "version": 3
   },
   "file_extension": ".py",
   "mimetype": "text/x-python",
   "name": "python",
   "nbconvert_exporter": "python",
   "pygments_lexer": "ipython3",
   "version": "3.9.7"
  }
 },
 "nbformat": 4,
 "nbformat_minor": 4
}
